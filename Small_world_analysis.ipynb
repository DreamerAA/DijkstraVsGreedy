{
 "cells": [
  {
   "cell_type": "code",
   "execution_count": 2,
   "metadata": {},
   "outputs": [],
   "source": [
    "import xarray as xr\n",
    "import numpy as np\n",
    "import pandas as pd"
   ]
  },
  {
   "cell_type": "code",
   "execution_count": 3,
   "metadata": {},
   "outputs": [],
   "source": [
    "file_name = \"./Small-world(Regular-Lattice)_u=1000.0_p=0.1_max-count-nodes=950_max-count-neighbors=25.nc\"\n",
    "df = xr.open_dataset(file_name)"
   ]
  },
  {
   "cell_type": "code",
   "execution_count": 4,
   "metadata": {},
   "outputs": [],
   "source": [
    "rd_array = df.real_diameters.to_numpy()\n",
    "conn = df.cneigh.to_numpy()\n",
    "max_diam = df.real_diameters.max()\n",
    "counters = np.zeros(shape=(int(max_diam), len(conn)))\n",
    "sum_lnz = np.ones(shape=(int(max_diam), len(conn)))\n",
    "df_lnz = df.lnz.to_numpy()"
   ]
  },
  {
   "cell_type": "code",
   "execution_count": 5,
   "metadata": {},
   "outputs": [
    {
     "name": "stderr",
     "output_type": "stream",
     "text": [
      "/tmp/ipykernel_5505/2094347514.py:10: RuntimeWarning: divide by zero encountered in true_divide\n",
      "  lnz = np.divide(sum_lnz, counters)\n"
     ]
    }
   ],
   "source": [
    "for i, neighs in enumerate(conn):\n",
    "    for j, nodes in enumerate(df.cnodes):\n",
    "        rd = int(rd_array[j, i]) - 1\n",
    "        counters[rd, i] = counters[rd, i] + 1\n",
    "        \n",
    "        sum_lnz[rd, i] = sum_lnz[rd, i] + df_lnz[j,i]\n",
    "\n",
    "coord_names = [\"diameters\", \"connectivity\"]\n",
    "\n",
    "lnz = np.divide(sum_lnz, counters)\n",
    "\n",
    "diameters = np.arange(1, max_diam + 1)"
   ]
  },
  {
   "cell_type": "code",
   "execution_count": 6,
   "metadata": {},
   "outputs": [],
   "source": [
    "mdf = xr.Dataset({\n",
    "        \"sum_lnz\": (coord_names, sum_lnz),\n",
    "        \"counters\": (coord_names, counters),\n",
    "        \"lnz\": (coord_names, lnz),\n",
    "    },\n",
    "        coords={\n",
    "        \"diameters\": diameters,\n",
    "        \"connectivity\": conn,\n",
    "    })\n"
   ]
  },
  {
   "cell_type": "code",
   "execution_count": 7,
   "metadata": {},
   "outputs": [
    {
     "data": {
      "text/plain": [
       "<matplotlib.collections.QuadMesh at 0x7f4a17e67040>"
      ]
     },
     "execution_count": 7,
     "metadata": {},
     "output_type": "execute_result"
    },
    {
     "data": {
      "image/png": "[encoded data removed]",
      "text/plain": [
       "<Figure size 432x288 with 2 Axes>"
      ]
     },
     "metadata": {
      "needs_background": "light"
     },
     "output_type": "display_data"
    }
   ],
   "source": [
    "mdf.lnz.plot()"
   ]
  },
  {
   "cell_type": "code",
   "execution_count": 33,
   "metadata": {},
   "outputs": [
    {
     "data": {
      "text/plain": [
       "<matplotlib.collections.QuadMesh at 0x7fce3df02490>"
      ]
     },
     "execution_count": 33,
     "metadata": {},
     "output_type": "execute_result"
    },
    {
     "data": {
      "image/png": "[encoded data removed]",
      "text/plain": [
       "<Figure size 432x288 with 2 Axes>"
      ]
     },
     "metadata": {
      "needs_background": "light"
     },
     "output_type": "display_data"
    }
   ],
   "source": [
    "mdf.counters.plot()"
   ]
  },
  {
   "cell_type": "code",
   "execution_count": 34,
   "metadata": {},
   "outputs": [
    {
     "data": {
      "text/plain": [
       "<matplotlib.collections.QuadMesh at 0x7fce3de411c0>"
      ]
     },
     "execution_count": 34,
     "metadata": {},
     "output_type": "execute_result"
    },
    {
     "data": {
      "image/png": "[encoded data removed]",
      "text/plain": [
       "<Figure size 432x288 with 2 Axes>"
      ]
     },
     "metadata": {
      "needs_background": "light"
     },
     "output_type": "display_data"
    }
   ],
   "source": [
    "df.real_diameters.plot()"
   ]
  },
  {
   "cell_type": "code",
   "execution_count": null,
   "metadata": {},
   "outputs": [],
   "source": []
  }
 ],
 "metadata": {
  "kernelspec": {
   "display_name": "Python 3.9.12 ('phd')",
   "language": "python",
   "name": "python3"
  },
  "language_info": {
   "codemirror_mode": {
    "name": "ipython",
    "version": 3
   },
   "file_extension": ".py",
   "mimetype": "text/x-python",
   "name": "python",
   "nbconvert_exporter": "python",
   "pygments_lexer": "ipython3",
   "version": "3.9.12"
  },
  "orig_nbformat": 4,
  "vscode": {
   "interpreter": {
    "hash": "efdd31d3356e71e6c98d0b3a990711444a156d69e514671156eaa4402f1cacf7"
   }
  }
 },
 "nbformat": 4,
 "nbformat_minor": 2
}
